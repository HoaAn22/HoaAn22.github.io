{
 "cells": [
  {
   "cell_type": "markdown",
   "metadata": {},
   "source": [
    "# Lecture 01: Hello, Python"
   ]
  },
  {
   "cell_type": "markdown",
   "metadata": {},
   "source": [
    "**Lưu ý:** _Bài viết này tổng hợp lại những kiến thức mà tôi học được từ khóa học \"Python\" trên Kaggle. Nội dung được viết lại bằng ngôn ngữ và cách hiểu của bản thân, **không sao chép nguyên văn từ tài liệu gốc**_.\n",
    "\n",
    "Để tìm hiểu khóa học xem tại [Kaggle Learn](https://www.kaggle.com/learn/python/course).\n",
    "\n",
    "---\n",
    "\n",
    "**Disclaimer:** _This article summarizes the knowledge I gained from the \"Python\" course on Kaggle. The content is rewritten in my own words and understanding, **and does not copy directly from the original materials**_.\n",
    "\n",
    "To explore the course, please visit [Kaggle Learn](https://www.kaggle.com/learn/python/course).\n",
    "\n",
    "---\n"
   ]
  },
  {
   "cell_type": "markdown",
   "metadata": {},
   "source": [
    "## Lý thuyết"
   ]
  },
  {
   "cell_type": "markdown",
   "metadata": {},
   "source": [
    "**Mục tiêu của khóa học** là tổng quan các kỹ năng cần thiết để bắt đầu sử dụng python trong khoa học dữ liệu.\n"
   ]
  },
  {
   "cell_type": "markdown",
   "metadata": {},
   "source": [
    "Bất đầu với một khái niệm đơn giản trong lập trình là **Biến**\n",
    "\n",
    "Việc khai báo biến trong Python có 1 điểm khác biệt quan trọng so với các ngôn ngữ lập trình khác như C/C++ hoặc Java, là **không cần khai báo kiểu biến**.\n",
    "\n",
    "- Đối với python\n",
    "    ```python\n",
    "    x = 0\n",
    "    ```\n",
    "- Đối với C/C++\n",
    "    ```C\n",
    "    int x = 10; \n",
    "    ```\n",
    "\n",
    "Thêm vào đó, kiểu dữ liệu của python được **xác định tự động** tại thời điểm chạy.\n"
   ]
  },
  {
   "cell_type": "code",
   "execution_count": 1,
   "metadata": {},
   "outputs": [
    {
     "name": "stdout",
     "output_type": "stream",
     "text": [
      "giá trị x vừa được gán: 0\n"
     ]
    }
   ],
   "source": [
    "# Khai báo biến & in giá trị của biến\n",
    "x = 0\n",
    "print(f\"giá trị x vừa được gán: {x}\")\n"
   ]
  },
  {
   "cell_type": "markdown",
   "metadata": {},
   "source": [
    "**Cách gọi  và sử dụng hàm**: trong ví dụ trên, `print()` là một hàm cơ bản trong python, dùng để hiển thị giá trị được truyền vào hàm bằng cách đặt biến (`x`) trực tiếp vào hàm `print()` trong dấu ngoặc đơn. Hoặc cách giúp chèn giá trị (`x`) vào nội dung bằng các `print(f\"{x}\")`"
   ]
  },
  {
   "cell_type": "markdown",
   "metadata": {},
   "source": [
    "**Để ghi chú** trong code python (khi biên dịch sẽ bỏ qua không ảnh hưởng đến code), trước dòng ghi chú bắt đầu bằng kí tự (`#`), hoặc có thế áp dụng dấu này để tạm thời loại bỏ đoạn code không cần chạy. Có thể dùng phím tắt (`Ctrl + ?`) để ghi chú nhanh, bằng cách bôi đen mà không cần phải đặt dấu (`#`) thủ công."
   ]
  },
  {
   "cell_type": "code",
   "execution_count": 2,
   "metadata": {},
   "outputs": [
    {
     "name": "stdout",
     "output_type": "stream",
     "text": [
      "giá trị mới của x là: 10\n"
     ]
    }
   ],
   "source": [
    "x = x + 10\n",
    "print(f\"giá trị mới của x là: {x}\")\n"
   ]
  },
  {
   "cell_type": "markdown",
   "metadata": {},
   "source": [
    "Trong python, có thể gán lại giá grị cho biến bằng phép tính tương tự như ví dụ trên. Python khi chạy lệnh, sẽ tính toán biểu thức bên phải và lưu giá trị mới vào biến `x` thay cho giá trị cũ."
   ]
  },
  {
   "cell_type": "markdown",
   "metadata": {},
   "source": [
    "**Cấu trúc của một hàm trong python**:\n",
    "\n",
    "Bắt đầu bằng dấu hai chấm (`:`), sau đó các dòng code thuộc hàm này cần thụt lề để biểu thị, dòng code thuộc hàm này.\n",
    "\n",
    "- ví dụ với hàm if, trong python\n",
    "    ```python\n",
    "    if x > 0 :\n",
    "        print(\"x là số dương\")\n",
    "    ```\n",
    "\n",
    "Việc thụt lề là quan trọng và bắt buộc với python, phục vụ cho việc dễ đọc và logic của code. *(Một số ngôn ngữ không yêu cầu thụt lề, không ảnh hưởng đến logic code nhưng vẫn nên viết có cấu trúc để đọc và bảo trì)*.\n"
   ]
  },
  {
   "cell_type": "markdown",
   "metadata": {},
   "source": [
    "**Chuỗi ký tự, số và toán tử trong python**"
   ]
  },
  {
   "cell_type": "markdown",
   "metadata": {},
   "source": [
    "- **Chuỗi ký tự**, được bao quanh bởi dấu ngoặc kép (`\"`) hoặc dấu ngoặc đơn (`'`), như ví dụ ở trên đã nhắn tới ở trên.\n",
    "    ```python\n",
    "    \"x là số dương\"\n",
    "    ```"
   ]
  },
  {
   "cell_type": "markdown",
   "metadata": {},
   "source": [
    "**Số và kiểu dữ liệu**\n",
    "\n",
    "- **Kiểu dữ liệu python**\n",
    "\n",
    "| Kiểu dữ liệu | Tên         | Ví dụ             |\n",
    "|--------------|-------------|-------------------|\n",
    "| `int`        | Số nguyên   | 5, -10, 100       |\n",
    "| `float`      | Số thực     | 3.14, -0.001, 0.0 |\n",
    "| `complex`    | Số phức     | 2 + 3j, 5j        |\n",
    "| `str`        | Chuỗi ký tự | \"abc\", '123', \"\"  |"
   ]
  },
  {
   "cell_type": "markdown",
   "metadata": {},
   "source": [
    "Để xem kiểu dữ liệu của số, sử dụng hàm `type()`."
   ]
  },
  {
   "cell_type": "code",
   "execution_count": 3,
   "metadata": {},
   "outputs": [
    {
     "data": {
      "text/plain": [
       "int"
      ]
     },
     "execution_count": 3,
     "metadata": {},
     "output_type": "execute_result"
    }
   ],
   "source": [
    "type(x)"
   ]
  },
  {
   "cell_type": "code",
   "execution_count": 4,
   "metadata": {},
   "outputs": [
    {
     "data": {
      "text/plain": [
       "float"
      ]
     },
     "execution_count": 4,
     "metadata": {},
     "output_type": "execute_result"
    }
   ],
   "source": [
    "type(3.14)"
   ]
  },
  {
   "cell_type": "markdown",
   "metadata": {},
   "source": [
    "- **Toán tử số học**\n",
    "\n",
    "| Toán tử | Ý nghĩa              |\n",
    "|---------|----------------------|\n",
    "| `+`     | Cộng                 |\n",
    "| `-`     | Trừ                  |\n",
    "| `*`     | Nhân                 |\n",
    "| `/`     | Chia (kết quả float) |\n",
    "| `//`    | Chia lấy phần nguyên |\n",
    "| `%`     | Chia lấy dư          |\n",
    "| `**`    | Lũy thừa             |\n"
   ]
  },
  {
   "cell_type": "code",
   "execution_count": 5,
   "metadata": {},
   "outputs": [
    {
     "name": "stdout",
     "output_type": "stream",
     "text": [
      "Python Python Python Python Python Python Python Python Python Python \n"
     ]
    }
   ],
   "source": [
    "str = \"Python \"\n",
    "\n",
    "print(str * 10)\n"
   ]
  },
  {
   "cell_type": "code",
   "execution_count": 6,
   "metadata": {},
   "outputs": [
    {
     "name": "stdout",
     "output_type": "stream",
     "text": [
      "Code Python\n"
     ]
    }
   ],
   "source": [
    "print(\"Code \" + \"Python\")\n"
   ]
  },
  {
   "cell_type": "markdown",
   "metadata": {},
   "source": [
    "Trong Python ngoài việc dùng toán tử dùng để tính toán 2 số với nhau như bình thường, chúng ta có thể dùng để nhân (`*`) với một chuỗi (`string`) như một vòng lặp. hoặc dùng cộng (`+`) để nối 2 chuỗi với nhau. Kỹ thuật này gọi là **Operator overloading**."
   ]
  },
  {
   "cell_type": "markdown",
   "metadata": {},
   "source": [
    "- **Toán tử nâng cao**\n",
    "\n",
    "| Nhóm     | Ví dụ toán tử                   |\n",
    "|----------|---------------------------------|\n",
    "| So sánh  | ==, !=, >, <, >=, <=            |\n",
    "| Logic    | and, or, not                    |\n",
    "| Gán      | =, +=, -=, *=, /=, //=, %=, **= |\n",
    "| Kiểm tra | in, not in, is, is not          |\n"
   ]
  },
  {
   "cell_type": "markdown",
   "metadata": {},
   "source": [
    "**Hàm có sẵn cho số**"
   ]
  },
  {
   "cell_type": "markdown",
   "metadata": {},
   "source": [
    "| Hàm       | Ý nghĩa                            |\n",
    "|-----------|------------------------------------|\n",
    "| `min()`   | Trả về giá trị nhỏ nhất            |\n",
    "| `max()`   | Trả về giá trị lớn nhất            |\n",
    "| `abs()`   | Giá trị tuyệt đối (loại bỏ dấu âm) |\n",
    "| `int()`   | Ép kiểu thành số nguyên            |\n",
    "| `float()` | Ép kiểu thành số thực              |"
   ]
  },
  {
   "cell_type": "code",
   "execution_count": 7,
   "metadata": {},
   "outputs": [
    {
     "name": "stdout",
     "output_type": "stream",
     "text": [
      "Min trong dãy số: 1\n",
      "Max trong dãy số: 3\n"
     ]
    }
   ],
   "source": [
    "# Hàm min/ max\n",
    "print(f\"Min trong dãy số: {min(1, 2, 3)}\")\n",
    "print(f\"Max trong dãy số: {max(1, 2, 3)}\")"
   ]
  },
  {
   "cell_type": "code",
   "execution_count": 8,
   "metadata": {},
   "outputs": [
    {
     "name": "stdout",
     "output_type": "stream",
     "text": [
      "1024\n",
      "1024\n"
     ]
    }
   ],
   "source": [
    "# Hàm giá trị tuyệt đối\n",
    "print(abs(1024))\n",
    "print(abs(-1024))"
   ]
  },
  {
   "cell_type": "code",
   "execution_count": 9,
   "metadata": {},
   "outputs": [
    {
     "name": "stdout",
     "output_type": "stream",
     "text": [
      "Kiểu dữ liệu lúc đầu: <class 'int'>\n",
      "Kiểu dữ liệu lúc sau: <class 'float'>\n"
     ]
    }
   ],
   "source": [
    "x = 10\n",
    "print(f\"Kiểu dữ liệu lúc đầu: {type(x)}\")\n",
    "\n",
    "x = float(x)\n",
    "print(f\"Kiểu dữ liệu lúc sau: {type(x)}\")\n"
   ]
  },
  {
   "cell_type": "code",
   "execution_count": 10,
   "metadata": {},
   "outputs": [
    {
     "name": "stdout",
     "output_type": "stream",
     "text": [
      "2\n"
     ]
    }
   ],
   "source": [
    "num = \"1\" # Khai báo kiểu str\n",
    "\n",
    "num = int(num)\n",
    "print(num + 1)"
   ]
  },
  {
   "cell_type": "markdown",
   "metadata": {},
   "source": [
    "`int()` có thể chuyển chuỗi thành dạng số, với điều kiện chuỗi chỉ chứa các ký tự số, hữu ích khi làm việc với thu thập dữ liệu."
   ]
  },
  {
   "cell_type": "markdown",
   "metadata": {},
   "source": [
    "## Thực hành"
   ]
  },
  {
   "cell_type": "markdown",
   "metadata": {},
   "source": [
    "**Giới thiệu về notebook**: Nếu như đây là lần đầu bạn sử dụng notebook, Notebook hay Jupyter Notebook là một môi trường lập trình tương tác sử dụng ngôn ngữ Python và chạy theo từng khối (cell)."
   ]
  },
  {
   "cell_type": "markdown",
   "metadata": {},
   "source": [
    "**Bài 1:** Tính diện tích hình tròn. có đường kính là 10.\n",
    "\n",
    "Gợi ý công thức:\n",
    "$$S = \\pi \\times r^2$$"
   ]
  },
  {
   "cell_type": "code",
   "execution_count": 11,
   "metadata": {},
   "outputs": [
    {
     "name": "stdout",
     "output_type": "stream",
     "text": [
      "Diện tích hình tròn: 78.5\n"
     ]
    }
   ],
   "source": [
    "pi = 3.14\n",
    "diameter = 10 # Đường kính\n",
    "radius = diameter / 2 # Bán kính\n",
    "\n",
    "# Diện tích hình tròn\n",
    "S = pi * radius**2 \n",
    "print(f\"Diện tích hình tròn: {S}\")\n"
   ]
  },
  {
   "cell_type": "markdown",
   "metadata": {},
   "source": [
    "**Bài 2:** Thuật toán hoán đổi"
   ]
  },
  {
   "cell_type": "code",
   "execution_count": 12,
   "metadata": {},
   "outputs": [
    {
     "name": "stdout",
     "output_type": "stream",
     "text": [
      "mảng ban đầu:\n",
      "[1, 2, 3, 4, 5, 6, 7, 8, 9, 0]\n",
      "[0, 9, 8, 7, 6, 5, 4, 3, 2, 1]\n",
      "mảng đã hoán đổi:\n",
      "[0, 9, 8, 7, 6, 5, 4, 3, 2, 1]\n",
      "[1, 2, 3, 4, 5, 6, 7, 8, 9, 0]\n"
     ]
    }
   ],
   "source": [
    "a = [1, 2, 3, 4, 5, 6, 7, 8, 9, 0]\n",
    "b = [0, 9, 8, 7, 6, 5, 4, 3 ,2 ,1]\n",
    "print(f\"mảng ban đầu:\\n{a}\\n{b}\")\n",
    "\n",
    "\n",
    "\"\"\"\n",
    "Thuật toán hoán đổi:\n",
    "Dùng biến tạm `var` để làm biến trung gian\n",
    "Hoán đổi 2 mảng\n",
    "\"\"\"\n",
    "var = a\n",
    "a = b\n",
    "b = var\n",
    "print(f\"mảng đã hoán đổi:\\n{a}\\n{b}\")\n"
   ]
  },
  {
   "cell_type": "code",
   "execution_count": 13,
   "metadata": {},
   "outputs": [
    {
     "name": "stdout",
     "output_type": "stream",
     "text": [
      "mảng ban đầu:\n",
      "[1, 2, 3, 4, 5, 6, 7, 8, 9, 0]\n",
      "[0, 9, 8, 7, 6, 5, 4, 3, 2, 1]\n",
      "mảng đã hoán đổi:\n",
      "[0, 9, 8, 7, 6, 5, 4, 3, 2, 1]\n",
      "[1, 2, 3, 4, 5, 6, 7, 8, 9, 0]\n"
     ]
    }
   ],
   "source": [
    "# Cách 2\n",
    "a = [1, 2, 3, 4, 5, 6, 7, 8, 9, 0]\n",
    "b = [0, 9, 8, 7, 6, 5, 4, 3 ,2 ,1]\n",
    "print(f\"mảng ban đầu:\\n{a}\\n{b}\")\n",
    "\n",
    "a, b = b, a\n",
    "print(f\"mảng đã hoán đổi:\\n{a}\\n{b}\")\n"
   ]
  },
  {
   "cell_type": "markdown",
   "metadata": {},
   "source": [
    "Trong python, hỗ trợ hoán đổi nhanh không cần sử dụng biến tạm."
   ]
  }
 ],
 "metadata": {
  "kernelspec": {
   "display_name": "Python 3",
   "language": "python",
   "name": "python3"
  },
  "language_info": {
   "codemirror_mode": {
    "name": "ipython",
    "version": 3
   },
   "file_extension": ".py",
   "mimetype": "text/x-python",
   "name": "python",
   "nbconvert_exporter": "python",
   "pygments_lexer": "ipython3",
   "version": "3.13.3"
  }
 },
 "nbformat": 4,
 "nbformat_minor": 2
}
