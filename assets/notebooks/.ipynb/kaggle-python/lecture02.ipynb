{
 "cells": [
  {
   "cell_type": "markdown",
   "metadata": {},
   "source": [
    "# Lecture 02: Functions and Getting Help"
   ]
  },
  {
   "cell_type": "markdown",
   "metadata": {},
   "source": [
    "Lưu ý: _Bài viết này tổng hợp lại những kiến thức mà tôi học được từ khóa học \"Python\" trên Kaggle. Nội dung được viết lại bằng ngôn ngữ và cách hiểu của bản thân, **không sao chép nguyên văn từ tài liệu gốc**_.\n",
    "\n",
    "Để tìm hiểu khóa học xem tại [Kaggle Learn](https://www.kaggle.com/learn/python/course).\n",
    "\n",
    "---\n",
    "\n",
    "Disclaimer: _This article summarizes the knowledge I gained from the \"Python\" course on Kaggle. The content is rewritten in my own words and understanding, **and does not copy directly from the original materials**_.\n",
    "\n",
    "To explore the course, please visit [Kaggle Learn](https://www.kaggle.com/learn/python/course).\n",
    "\n",
    "---\n"
   ]
  },
  {
   "cell_type": "markdown",
   "metadata": {},
   "source": [
    "## Lý thuyết"
   ]
  },
  {
   "cell_type": "markdown",
   "metadata": {},
   "source": [
    "**Functions (Hàm)**\n",
    "\n",
    "Mặc dù python hỗ trợ nhiều hàm có sẵn rất hữu ích, nhưng đôi khi thiếu sót một vài chức năng đặc thù mà lập trình viên cần, vì thế bạn có thể tự tạo ra 1 hàm chức năng riêng dựa vào nhu cầu sử dụng của mình\n",
    "\n",
    "- Định nghĩa hàm: hàm được bắt đầu bằng từ khóa (`def`) thể hiện cho python biết đây là một hàm, tiếp theo là tên hàm và định nghĩa **tham số cần truyền vào hàm**. Hàm cần có (`return`) để biết được giá trị mà hàm cần trả về - chức năng của hàm đó."
   ]
  },
  {
   "cell_type": "code",
   "execution_count": 1,
   "metadata": {},
   "outputs": [],
   "source": [
    "def BMI(weight, height):\n",
    "    \n",
    "    bmi = weight / (height**2)\n",
    "    return bmi\n"
   ]
  },
  {
   "cell_type": "code",
   "execution_count": 2,
   "metadata": {},
   "outputs": [
    {
     "name": "stdout",
     "output_type": "stream",
     "text": [
      "Chỉ số BMI 60kg - 1m75: 19.59\n"
     ]
    }
   ],
   "source": [
    "print(f\"Chỉ số BMI 60kg - 1m75: {round(BMI(60, 1.75), 2)}\")\n"
   ]
  },
  {
   "cell_type": "markdown",
   "metadata": {},
   "source": [
    "Nếu không có (`return`) hàm sẽ không thể trả ra giá trị."
   ]
  },
  {
   "cell_type": "code",
   "execution_count": 3,
   "metadata": {},
   "outputs": [
    {
     "name": "stdout",
     "output_type": "stream",
     "text": [
      "Chỉ số BMI 60kg - 1m75: None\n"
     ]
    }
   ],
   "source": [
    "def BMI(weight, height):\n",
    "    \n",
    "    bmi = weight / (height**2)\n",
    "    bmi\n",
    "\n",
    "print(f\"Chỉ số BMI 60kg - 1m75: {BMI(60, 1.75)}\")\n"
   ]
  },
  {
   "cell_type": "markdown",
   "metadata": {},
   "source": [
    "Kết quả trả về là (`None`)"
   ]
  },
  {
   "cell_type": "markdown",
   "metadata": {},
   "source": [
    "**Getting help:** `help()` là một hàm rất hữu ít trong python, cho phép đọc được tài liệu hoặc cách sử dụng hàm nào đó, khi trong hàm đó đã có ghi chú sẵn (có docstring)."
   ]
  },
  {
   "cell_type": "code",
   "execution_count": 4,
   "metadata": {},
   "outputs": [
    {
     "name": "stdout",
     "output_type": "stream",
     "text": [
      "Help on built-in function round in module builtins:\n",
      "\n",
      "round(number, ndigits=None)\n",
      "    Round a number to a given precision in decimal digits.\n",
      "\n",
      "    The return value is an integer if ndigits is omitted or None.  Otherwise\n",
      "    the return value has the same type as the number.  ndigits may be negative.\n",
      "\n"
     ]
    }
   ],
   "source": [
    "help(round)\n"
   ]
  },
  {
   "cell_type": "markdown",
   "metadata": {},
   "source": [
    "Ngoài ra, hàm `help()` có thể sử dụng với thư viện như\n",
    "```python\n",
    "import math\n",
    "\n",
    "help(math)\n",
    "```\n",
    "nó sẽ hiển thị các hàm có trong thư viện và các hằng số được cài đặt sẵn."
   ]
  },
  {
   "cell_type": "markdown",
   "metadata": {},
   "source": [
    "cách để ghi doc string để sử dụng hàm `help()`"
   ]
  },
  {
   "cell_type": "code",
   "execution_count": 5,
   "metadata": {},
   "outputs": [
    {
     "name": "stdout",
     "output_type": "stream",
     "text": [
      "Help on function BMI in module __main__:\n",
      "\n",
      "BMI(weight, height)\n",
      "    tham số:\n",
      "        weight (cân nặng)\n",
      "        height (chiều cao)\n",
      "    trả về: BMI\n",
      "\n"
     ]
    }
   ],
   "source": [
    "def BMI(weight, height):\n",
    "\n",
    "    \"\"\"\n",
    "    tham số: \n",
    "        weight (cân nặng)\n",
    "        height (chiều cao)\n",
    "    trả về: BMI\n",
    "    \"\"\"\n",
    "    \n",
    "    bmi = weight / (height**2)\n",
    "    return bmi\n",
    "\n",
    "help(BMI)"
   ]
  },
  {
   "cell_type": "markdown",
   "metadata": {},
   "source": [
    "## Thực hành"
   ]
  },
  {
   "cell_type": "markdown",
   "metadata": {},
   "source": []
  }
 ],
 "metadata": {
  "kernelspec": {
   "display_name": "Python 3",
   "language": "python",
   "name": "python3"
  },
  "language_info": {
   "codemirror_mode": {
    "name": "ipython",
    "version": 3
   },
   "file_extension": ".py",
   "mimetype": "text/x-python",
   "name": "python",
   "nbconvert_exporter": "python",
   "pygments_lexer": "ipython3",
   "version": "3.13.3"
  }
 },
 "nbformat": 4,
 "nbformat_minor": 2
}
