{
 "cells": [
  {
   "cell_type": "markdown",
   "metadata": {},
   "source": [
    "# Lecture 06: Strings and Dictionaries"
   ]
  },
  {
   "cell_type": "markdown",
   "metadata": {},
   "source": [
    "Lưu ý: _Bài viết này tổng hợp lại những kiến thức mà tôi học được từ khóa học \"Python\" trên Kaggle. Nội dung được viết lại bằng ngôn ngữ và cách hiểu của bản thân, **không sao chép nguyên văn từ tài liệu gốc**_.\n",
    "\n",
    "Để tìm hiểu khóa học xem tại [Kaggle Learn](https://www.kaggle.com/learn/python/course).\n",
    "\n",
    "---\n",
    "\n",
    "Disclaimer: _This article summarizes the knowledge I gained from the \"Python\" course on Kaggle. The content is rewritten in my own words and understanding, **and does not copy directly from the original materials**_.\n",
    "\n",
    "To explore the course, please visit [Kaggle Learn](https://www.kaggle.com/learn/python/course).\n",
    "\n",
    "---\n"
   ]
  },
  {
   "cell_type": "markdown",
   "metadata": {},
   "source": []
  }
 ],
 "metadata": {
  "language_info": {
   "name": "python"
  }
 },
 "nbformat": 4,
 "nbformat_minor": 2
}
